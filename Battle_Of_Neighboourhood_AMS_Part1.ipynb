{
 "cells": [
  {
   "cell_type": "markdown",
   "metadata": {},
   "source": [
    "### Background"
   ]
  },
  {
   "cell_type": "markdown",
   "metadata": {},
   "source": [
    "Amsterdam is the capital city of the Netherlands, with a population of around 2.4 million in the metropolitan area. The city also is the commercial and cultural capital of the Netherlands and is considered an alpha- world city. Amsterdam is also one of the most popular tourist destinations in Europe, receiving more than 4.63 million international visitors annually. Along with Frankfurt, the city is one of the gateways to Europe for travelers from the East.\n",
    "\n",
    "With the influx of travelers to the city increasing by every year, there has also been a surge in the number of places of accommodation to cater to the increasing demand. Along with the traditional options like hotels and lodgings, cheaper and flexible alternatives like Airbnb stays and hostels have become more popular among tourists. This leaves the travelers with myriad of options to choose from but at the same time present a dilemma in deciding which location serves them best considering all factors like affordability, proximity to places of interest etc.\n"
   ]
  },
  {
   "cell_type": "markdown",
   "metadata": {},
   "source": [
    "### Business Problem"
   ]
  },
  {
   "cell_type": "markdown",
   "metadata": {},
   "source": [
    "The project attempts to provides the travelers to Amsterdam with a comprehensive comparison of different neighborhoods of the city to help them in deciding the location of their stay. To solve the problem, we will be using the Airbnb listing data for Amsterdam along with the location data from Foursquare API listing the happening venues around the neighbourhood of stay. The project targets mainly solo travelers and back-packers who, it is presumed, would benefit the most from the exercise."
   ]
  },
  {
   "cell_type": "markdown",
   "metadata": {},
   "source": [
    "## Data"
   ]
  },
  {
   "cell_type": "markdown",
   "metadata": {},
   "source": [
    "As the main data set, we will be using the Airbnb listing for Amsterdam available [here](https://www.kaggle.com/erikbruin/airbnb-amsterdam#listings.csv) and list of neighbourhoods of Amsterdam available [here](https://www.kaggle.com/erikbruin/airbnb-amsterdam#neighbourhoods.csv) on Kaggle website. A snippet from the full data set is shown below."
   ]
  },
  {
   "cell_type": "markdown",
   "metadata": {},
   "source": [
    "A description of the columns in the data set is again obtained from the website and shown below."
   ]
  },
  {
   "cell_type": "markdown",
   "metadata": {},
   "source": [
    "![](Column_Desc.jpg)"
   ]
  },
  {
   "cell_type": "markdown",
   "metadata": {},
   "source": [
    "   "
   ]
  },
  {
   "cell_type": "markdown",
   "metadata": {},
   "source": [
    "We will be cleaning the data set first and preparing the data based on some exploratory data analysis. After these steps, we will derive the below useful features from the Airbnb data set. Number of listings and average reviews are indicative of the populariry of the place while average price is the main factor for affordability."
   ]
  },
  {
   "cell_type": "markdown",
   "metadata": {},
   "source": [
    "![](Data.jpg)"
   ]
  },
  {
   "cell_type": "markdown",
   "metadata": {},
   "source": [
    "Finally, to add more useful features to the data set before we compare the neighbourhoods, we will be leveraging the location data from Foursquare API to find out happening venues based on general categories of interest to travelers. First, the coordinates of the neighbourhoods are obtained by using the geopy library and it is later used to send Foursquare API requests to bring in nearby venues information for a selected list of venue categories."
   ]
  },
  {
   "cell_type": "markdown",
   "metadata": {},
   "source": [
    "![](Location.jpg)"
   ]
  },
  {
   "cell_type": "code",
   "execution_count": null,
   "metadata": {},
   "outputs": [],
   "source": []
  }
 ],
 "metadata": {
  "kernelspec": {
   "display_name": "Python",
   "language": "python",
   "name": "conda-env-python-py"
  },
  "language_info": {
   "codemirror_mode": {
    "name": "ipython",
    "version": 3
   },
   "file_extension": ".py",
   "mimetype": "text/x-python",
   "name": "python",
   "nbconvert_exporter": "python",
   "pygments_lexer": "ipython3",
   "version": "3.6.7"
  }
 },
 "nbformat": 4,
 "nbformat_minor": 4
}
